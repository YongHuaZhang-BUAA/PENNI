{
 "cells": [
  {
   "cell_type": "markdown",
   "metadata": {},
   "source": [
    "# PENNI framework workflow\n",
    "\n",
    "Note: For the ResNet56 checkpoint, please use dill package instead of torch.load to load it."
   ]
  },
  {
   "cell_type": "code",
   "execution_count": null,
   "metadata": {},
   "outputs": [],
   "source": [
    "%load_ext autoreload\n",
    "%autoreload 2\n",
    "import torch\n",
    "import numpy as np\n",
    "\n",
    "from models import utils, vgg16\n",
    "from models.op_count import profile\n",
    "from decompose import params_resolver"
   ]
  },
  {
   "cell_type": "markdown",
   "metadata": {},
   "source": [
    "## Load Baseline Model"
   ]
  },
  {
   "cell_type": "code",
   "execution_count": null,
   "metadata": {},
   "outputs": [],
   "source": [
    "model = vgg16.VGG16()\n",
    "model.load_state_dict(torch.load(\"ckpt/Baseline/VGG16_93.49.pth\"))\n",
    "model.cuda()\n",
    "utils.eval_cifar10(model)"
   ]
  },
  {
   "cell_type": "markdown",
   "metadata": {},
   "source": [
    "## Decomposition and Retraining"
   ]
  },
  {
   "cell_type": "code",
   "execution_count": null,
   "metadata": {},
   "outputs": [],
   "source": [
    "resolver = params_resolver.param_resolver(model)\n",
    "spar_model = resolver.PCA_decomposing(basis=5)\n",
    "spar_model.cuda()\n",
    "\n",
    "utils.train_cifar10(spar_model, lr=0.01, reg=1e-4, cross=True, cross_interval=2, spar_reg=\"l1\", spar_param=1e-4)\n",
    "utils.eval_cifar10(model)"
   ]
  },
  {
   "cell_type": "markdown",
   "metadata": {},
   "source": [
    "## Parameter and FLOPs Count"
   ]
  },
  {
   "cell_type": "code",
   "execution_count": null,
   "metadata": {},
   "outputs": [],
   "source": [
    "spar_model.cuda()\n",
    "inputs = torch.randn(1,3,32,32).cuda()\n",
    "flops = profile.profile(spar_model, [inputs,], verbose=False)\n",
    "print(profile.clever_format(flops))\n",
    "\n",
    "utils.compute_sparsity(spar_model)"
   ]
  },
  {
   "cell_type": "markdown",
   "metadata": {},
   "source": [
    "## Prune and Finetune"
   ]
  },
  {
   "cell_type": "code",
   "execution_count": null,
   "metadata": {},
   "outputs": [],
   "source": [
    "utils.prune_by_std(spar_model)\n",
    "utils.train_cifar10(spar_model, lr=0.01, reg=1e-4, epochs=30, finetune=True)\n",
    "utils.eval_cifar10(spar_model)"
   ]
  },
  {
   "cell_type": "code",
   "execution_count": null,
   "metadata": {},
   "outputs": [],
   "source": [
    "flops = profile.profile(spar_model, [inputs,], verbose=False)\n",
    "print(profile.clever_format(flops))\n",
    "\n",
    "utils.compute_sparsity(spar_model)"
   ]
  },
  {
   "cell_type": "markdown",
   "metadata": {},
   "source": [
    "## Model Shrinking"
   ]
  },
  {
   "cell_type": "code",
   "execution_count": null,
   "metadata": {},
   "outputs": [],
   "source": [
    "spar_model = torch.load(\"ckpt/PrunedFinalModel/VGG16_pruned_9312.h5\")\n",
    "model_s, _ = utils.shrink(spar_model, iterative=True)\n",
    "\n",
    "model_s.cuda()\n",
    "utils.eval_cifar10(model_s)"
   ]
  },
  {
   "cell_type": "code",
   "execution_count": null,
   "metadata": {},
   "outputs": [],
   "source": [
    "flops = profile.profile(spar_model, [inputs,], verbose=False)\n",
    "print(profile.clever_format(flops))\n",
    "\n",
    "utils.compute_sparsity(spar_model)"
   ]
  },
  {
   "cell_type": "code",
   "execution_count": null,
   "metadata": {},
   "outputs": [],
   "source": []
  }
 ],
 "metadata": {
  "kernelspec": {
   "display_name": "Python 3",
   "language": "python",
   "name": "python3"
  },
  "language_info": {
   "codemirror_mode": {
    "name": "ipython",
    "version": 3
   },
   "file_extension": ".py",
   "mimetype": "text/x-python",
   "name": "python",
   "nbconvert_exporter": "python",
   "pygments_lexer": "ipython3",
   "version": "3.7.6"
  }
 },
 "nbformat": 4,
 "nbformat_minor": 4
}
